{
 "cells": [
  {
   "cell_type": "markdown",
   "id": "10b74b5a",
   "metadata": {},
   "source": [
    "## Web Scraper Project\n",
    "In this project we're going to be web scraping a web page in order to track the price of a product we're interested in and notify ourselves via e-mail when the price drops below desired amount."
   ]
  },
  {
   "cell_type": "code",
   "execution_count": 1,
   "id": "ce825b0a",
   "metadata": {},
   "outputs": [],
   "source": [
    "from bs4 import BeautifulSoup\n",
    "import requests\n",
    "import time\n",
    "import datetime\n",
    "import pandas as pd\n",
    "\n",
    "import smtplib"
   ]
  },
  {
   "cell_type": "code",
   "execution_count": 2,
   "id": "31ade395",
   "metadata": {},
   "outputs": [
    {
     "name": "stdout",
     "output_type": "stream",
     "text": [
      "\n",
      "           BARRIER Filter za bokale BWT Mg\n",
      "          \n",
      "\n",
      "             899  RSD\n",
      "            \n"
     ]
    }
   ],
   "source": [
    "# https://httpbin.org/get\n",
    "\n",
    "url = 'https://www.tehnomanija.rs/kucni-aparati/filteri-za-bokale-za-vodu/barrier-filter-za-bokale-bwt-mg-000000000001105163'\n",
    "headers = {\"User-Agent\": \"Mozilla/5.0 (Windows NT 10.0; Win64; x64) AppleWebKit/537.36 (KHTML, like Gecko) Chrome/116.0.0.0 Safari/537.36\", \"Accept-Encoding\": \"gzip, deflate, br\",  \"Accept\": \"text/html,application/xhtml+xml,application/xml;q=0.9,image/avif,image/webp,image/apng,*/*;q=0.8\", \"DNT\":\"1\",\"Connection\":\"close\", \"Upgrade-Insecure-Requests\":\"1\"}\n",
    "\n",
    "page = requests.get(url, headers=headers)\n",
    "\n",
    "soup1 = BeautifulSoup(page.content,'html.parser')\n",
    "soup2 = BeautifulSoup(soup1.prettify(), 'html.parser')\n",
    "\n",
    "title = soup2.find('h1').get_text()\n",
    "price = soup2.find(class_='product-price-newprice').get_text()\n",
    "\n",
    "print(title)\n",
    "print(price)\n"
   ]
  },
  {
   "cell_type": "code",
   "execution_count": 3,
   "id": "031c9559",
   "metadata": {},
   "outputs": [
    {
     "name": "stdout",
     "output_type": "stream",
     "text": [
      "BARRIER Filter za bokale BWT Mg\n",
      "899\n"
     ]
    }
   ],
   "source": [
    "# Trimming the data\n",
    "# Removing RSD from the price to make the data more usable\n",
    "\n",
    "title = title.strip()\n",
    "price = price.strip()[:3]\n",
    "\n",
    "print(title)\n",
    "print(price)"
   ]
  },
  {
   "cell_type": "code",
   "execution_count": 4,
   "id": "b162181c",
   "metadata": {},
   "outputs": [
    {
     "name": "stdout",
     "output_type": "stream",
     "text": [
      "2023-08-19\n"
     ]
    }
   ],
   "source": [
    "# Creating a timestamp to track when the data was collected\n",
    "\n",
    "today = datetime.date.today()\n",
    "print(today)"
   ]
  },
  {
   "cell_type": "code",
   "execution_count": 5,
   "id": "777e0374",
   "metadata": {},
   "outputs": [],
   "source": [
    "# Creating a csv file to store our header and our data \n",
    "\n",
    "import csv\n",
    "\n",
    "header = ['Title', 'Price', 'Date']\n",
    "data = [title, price, today]\n",
    "\n",
    "with open('TehnomanijaFilterDataset.csv', 'w', newline='', encoding='UTF8') as f:\n",
    "    writer = csv.writer(f)\n",
    "    writer.writerow(header)\n",
    "    writer.writerow(data)"
   ]
  },
  {
   "cell_type": "code",
   "execution_count": 7,
   "id": "6cbf2061",
   "metadata": {},
   "outputs": [
    {
     "data": {
      "text/html": [
       "<div>\n",
       "<style scoped>\n",
       "    .dataframe tbody tr th:only-of-type {\n",
       "        vertical-align: middle;\n",
       "    }\n",
       "\n",
       "    .dataframe tbody tr th {\n",
       "        vertical-align: top;\n",
       "    }\n",
       "\n",
       "    .dataframe thead th {\n",
       "        text-align: right;\n",
       "    }\n",
       "</style>\n",
       "<table border=\"1\" class=\"dataframe\">\n",
       "  <thead>\n",
       "    <tr style=\"text-align: right;\">\n",
       "      <th></th>\n",
       "      <th>Title</th>\n",
       "      <th>Price</th>\n",
       "      <th>Date</th>\n",
       "    </tr>\n",
       "  </thead>\n",
       "  <tbody>\n",
       "    <tr>\n",
       "      <th>0</th>\n",
       "      <td>BARRIER Filter za bokale BWT Mg</td>\n",
       "      <td>899</td>\n",
       "      <td>2023-08-19</td>\n",
       "    </tr>\n",
       "  </tbody>\n",
       "</table>\n",
       "</div>"
      ],
      "text/plain": [
       "                             Title  Price        Date\n",
       "0  BARRIER Filter za bokale BWT Mg    899  2023-08-19"
      ]
     },
     "execution_count": 7,
     "metadata": {},
     "output_type": "execute_result"
    }
   ],
   "source": [
    "df = pd.read_csv(r'C:\\Users\\Sara\\Desktop\\Work\\Portfolio Projects\\Python Web Scraper\\TehnomanijaFilterDataset.csv')\n",
    "df"
   ]
  },
  {
   "cell_type": "code",
   "execution_count": 7,
   "id": "3b96192a",
   "metadata": {},
   "outputs": [],
   "source": [
    "# Appending the data into our dataset\n",
    "\n",
    "# with open('TehnomanijaFilterDataset.csv', 'a+', newline='', encoding='UTF8') as f:\n",
    "#     writer = csv.writer(f)\n",
    "#     writer.writerow(data)"
   ]
  },
  {
   "cell_type": "code",
   "execution_count": 8,
   "id": "aa5d43a5",
   "metadata": {},
   "outputs": [],
   "source": [
    "def check_price():\n",
    "    url = 'https://www.tehnomanija.rs/kucni-aparati/filteri-za-bokale-za-vodu/barrier-filter-za-bokale-bwt-mg-000000000001105163'\n",
    "    headers = {\"User-Agent\": \"Mozilla/5.0 (Windows NT 10.0; Win64; x64) AppleWebKit/537.36 (KHTML, like Gecko) Chrome/116.0.0.0 Safari/537.36\", \"Accept-Encoding\": \"gzip, deflate, br\",  \"Accept\": \"text/html,application/xhtml+xml,application/xml;q=0.9,image/avif,image/webp,image/apng,*/*;q=0.8\", \"DNT\":\"1\",\"Connection\":\"close\", \"Upgrade-Insecure-Requests\":\"1\"}\n",
    "\n",
    "    page = requests.get(url, headers=headers)\n",
    "\n",
    "    soup1 = BeautifulSoup(page.content,'html.parser')\n",
    "    soup2 = BeautifulSoup(soup1.prettify(), 'html.parser')\n",
    "\n",
    "    title = soup2.find('h1').get_text()\n",
    "    price = soup2.find(class_='product-price-newprice').get_text()\n",
    "    \n",
    "    title = title.strip()\n",
    "    price = price.strip()[:3]\n",
    "    \n",
    "    today = datetime.date.today()\n",
    "    \n",
    "    header = ['Title', 'Price', 'Date']\n",
    "    data = [title, price, today]\n",
    "\n",
    "    with open('TehnomanijaFilterDataset.csv', 'a+', newline='', encoding='UTF8') as f:\n",
    "        writer = csv.writer(f)\n",
    "        writer.writerow(data)\n",
    "        \n",
    "    if(int(price) <= 500):\n",
    "        send_mail()\n",
    "    "
   ]
  },
  {
   "cell_type": "code",
   "execution_count": 9,
   "id": "96cfb2df",
   "metadata": {},
   "outputs": [],
   "source": [
    "def send_mail():\n",
    "    server = smtplib.SMTP_SSL('smtp.gmail.com',465)\n",
    "    server.ehlo()\n",
    "    server.starttls()\n",
    "    server.ehlo()\n",
    "    server.login('nikolic.sara.5@gmail.com','xxxxxxxxxxxxxx')\n",
    "    \n",
    "    subject = \"The Filter you want is on discount!\"\n",
    "    body = 'Check it out here :\\n' + url\n",
    "    \n",
    "    msg = f\"Subject: {subject}\\n\\n{body}\"\n",
    "    \n",
    "    server.sendmail('nikolic.sara.5@gmail.com', msg)"
   ]
  },
  {
   "cell_type": "code",
   "execution_count": null,
   "id": "57ac809a",
   "metadata": {},
   "outputs": [],
   "source": [
    "# Check the price every 24h (86400s)\n",
    "\n",
    "while(True):\n",
    "    check_price()\n",
    "    time.sleep(86400)"
   ]
  },
  {
   "cell_type": "code",
   "execution_count": null,
   "id": "47f3324a",
   "metadata": {},
   "outputs": [],
   "source": []
  }
 ],
 "metadata": {
  "kernelspec": {
   "display_name": "Python 3 (ipykernel)",
   "language": "python",
   "name": "python3"
  },
  "language_info": {
   "codemirror_mode": {
    "name": "ipython",
    "version": 3
   },
   "file_extension": ".py",
   "mimetype": "text/x-python",
   "name": "python",
   "nbconvert_exporter": "python",
   "pygments_lexer": "ipython3",
   "version": "3.9.12"
  }
 },
 "nbformat": 4,
 "nbformat_minor": 5
}
